{
 "cells": [
  {
   "cell_type": "markdown",
   "id": "6392a363-17f5-49bc-af71-307ea8044c5a",
   "metadata": {},
   "source": [
    "# Part 1: Perceptron\n",
    "\n",
    "In part 1, I implement the perceptron algorithm from scratch and optimize it with\n",
    "gradient descent. The data sets are two bivariate gaussian distributions centered at -2,-2 and 2,2, respectively."
   ]
  },
  {
   "cell_type": "code",
   "execution_count": 1,
   "id": "61b5dcc9-8035-4ac2-878e-d66f311a9d0b",
   "metadata": {},
   "outputs": [],
   "source": [
    "import matplotlib.pyplot as plt\n",
    "import numpy as np\n",
    "import pandas as pd"
   ]
  },
  {
   "cell_type": "markdown",
   "id": "0c3307f6-3a83-4f4c-8094-3df90bc1402a",
   "metadata": {},
   "source": [
    "### Generate 50 samples from each of the two bivariate gaussian distributions with unit variance centered at (-2, -2), (2, 2) respectively."
   ]
  },
  {
   "cell_type": "code",
   "execution_count": 2,
   "id": "b04919d3-af27-48b2-a5aa-bcef3dd9f6b0",
   "metadata": {},
   "outputs": [
    {
     "name": "stdout",
     "output_type": "stream",
     "text": [
      "(100,)\n",
      "(100,)\n",
      "(100,)\n"
     ]
    }
   ],
   "source": [
    "n_samples = 50\n",
    "c1_x, c1_y = np.random.multivariate_normal([-2, -2], [[1, 0], [0, 1]], n_samples).T\n",
    "c2_x, c2_y = np.random.multivariate_normal([2, 2], [[1, 0], [0, 1]], n_samples).T\n",
    "\n",
    "X = np.concatenate((c1_x, c2_x))\n",
    "Y = np.concatenate((c1_y, c2_y))\n",
    "C = np.concatenate(([0] * n_samples, [1] * n_samples))\n",
    "print(X.shape)\n",
    "print(Y.shape)\n",
    "print(C.shape)"
   ]
  },
  {
   "cell_type": "code",
   "execution_count": 3,
   "id": "2a957de0-a527-4cc1-a266-62ae78fa9a41",
   "metadata": {},
   "outputs": [
    {
     "data": {
      "text/html": [
       "<div>\n",
       "<style scoped>\n",
       "    .dataframe tbody tr th:only-of-type {\n",
       "        vertical-align: middle;\n",
       "    }\n",
       "\n",
       "    .dataframe tbody tr th {\n",
       "        vertical-align: top;\n",
       "    }\n",
       "\n",
       "    .dataframe thead th {\n",
       "        text-align: right;\n",
       "    }\n",
       "</style>\n",
       "<table border=\"1\" class=\"dataframe\">\n",
       "  <thead>\n",
       "    <tr style=\"text-align: right;\">\n",
       "      <th></th>\n",
       "      <th>x</th>\n",
       "      <th>y</th>\n",
       "      <th>c</th>\n",
       "    </tr>\n",
       "  </thead>\n",
       "  <tbody>\n",
       "    <tr>\n",
       "      <th>0</th>\n",
       "      <td>-2.949693</td>\n",
       "      <td>-2.445140</td>\n",
       "      <td>0</td>\n",
       "    </tr>\n",
       "    <tr>\n",
       "      <th>1</th>\n",
       "      <td>4.155550</td>\n",
       "      <td>1.109938</td>\n",
       "      <td>1</td>\n",
       "    </tr>\n",
       "    <tr>\n",
       "      <th>2</th>\n",
       "      <td>-0.902928</td>\n",
       "      <td>-1.414713</td>\n",
       "      <td>0</td>\n",
       "    </tr>\n",
       "    <tr>\n",
       "      <th>3</th>\n",
       "      <td>2.897428</td>\n",
       "      <td>0.931271</td>\n",
       "      <td>1</td>\n",
       "    </tr>\n",
       "    <tr>\n",
       "      <th>4</th>\n",
       "      <td>-2.592329</td>\n",
       "      <td>-0.344814</td>\n",
       "      <td>0</td>\n",
       "    </tr>\n",
       "    <tr>\n",
       "      <th>5</th>\n",
       "      <td>2.814902</td>\n",
       "      <td>0.955810</td>\n",
       "      <td>1</td>\n",
       "    </tr>\n",
       "    <tr>\n",
       "      <th>6</th>\n",
       "      <td>0.833771</td>\n",
       "      <td>2.358280</td>\n",
       "      <td>1</td>\n",
       "    </tr>\n",
       "    <tr>\n",
       "      <th>7</th>\n",
       "      <td>2.662254</td>\n",
       "      <td>0.971530</td>\n",
       "      <td>1</td>\n",
       "    </tr>\n",
       "    <tr>\n",
       "      <th>8</th>\n",
       "      <td>2.224512</td>\n",
       "      <td>1.913609</td>\n",
       "      <td>1</td>\n",
       "    </tr>\n",
       "    <tr>\n",
       "      <th>9</th>\n",
       "      <td>3.144360</td>\n",
       "      <td>2.600461</td>\n",
       "      <td>1</td>\n",
       "    </tr>\n",
       "  </tbody>\n",
       "</table>\n",
       "</div>"
      ],
      "text/plain": [
       "          x         y  c\n",
       "0 -2.949693 -2.445140  0\n",
       "1  4.155550  1.109938  1\n",
       "2 -0.902928 -1.414713  0\n",
       "3  2.897428  0.931271  1\n",
       "4 -2.592329 -0.344814  0\n",
       "5  2.814902  0.955810  1\n",
       "6  0.833771  2.358280  1\n",
       "7  2.662254  0.971530  1\n",
       "8  2.224512  1.913609  1\n",
       "9  3.144360  2.600461  1"
      ]
     },
     "execution_count": 3,
     "metadata": {},
     "output_type": "execute_result"
    }
   ],
   "source": [
    "df = pd.DataFrame(\n",
    "    {'x': X,\n",
    "     'y': Y,\n",
    "     'c': C,\n",
    "    }\n",
    ")\n",
    "\n",
    "#shuffle df, in case that matters?\n",
    "df = df.sample(frac=1).reset_index(drop=True)\n",
    "\n",
    "df.c.value_counts()\n",
    "df.head(10)"
   ]
  },
  {
   "cell_type": "code",
   "execution_count": 4,
   "id": "5ed9a353-ec42-44e6-8745-958be0a2ba16",
   "metadata": {},
   "outputs": [
    {
     "data": {
      "image/png": "[encoded data removed]",
      "text/plain": [
       "<Figure size 432x288 with 1 Axes>"
      ]
     },
     "metadata": {
      "needs_background": "light"
     },
     "output_type": "display_data"
    }
   ],
   "source": [
    "markers = {0: 'x', 1: 'o'}\n",
    "for group in df.c.unique():\n",
    "    plt.plot(df.x[df.c == group], df.y[df.c == group], marker = markers[group], linestyle='', fillstyle='none')  \n",
    "plt.ylim(-6, 6)\n",
    "plt.show()"
   ]
  },
  {
   "cell_type": "markdown",
   "id": "9e7b5e0f-2042-4bee-b1aa-a6f8bcab724f",
   "metadata": {
    "tags": []
   },
   "source": [
    "### Implement the perceptron algorithm from scratch and optimize it with gradient descent."
   ]
  },
  {
   "cell_type": "code",
   "execution_count": 5,
   "id": "3d1e02c5-bebf-425e-9e97-8cc378c41bad",
   "metadata": {},
   "outputs": [],
   "source": [
    "#assuming Y = mX + b formula\n",
    "\n",
    "class perceptron:\n",
    "    def __init__(self, X, Y, C):\n",
    "        self.X = X\n",
    "        self.Y = Y\n",
    "        self.C = C\n",
    "        \n",
    "        #random vals so doesn't immediately equal a straight line\n",
    "        self.bias = 1\n",
    "        self.x_w = 1\n",
    "        self.y_w = -1\n",
    "        self.lr = 0.01\n",
    "        \n",
    "    def step_func(self, x):\n",
    "        return 1 if (x > 0) else 0\n",
    "    \n",
    "    def pred_c(self, x, y):\n",
    "        return self.step_func(x * self.x_w + y * self.y_w + self.bias)\n",
    "    \n",
    "    def update_weights(self, x, y, c):\n",
    "        self.x_w = self.x_w + self.lr * (c - self.pred_c(x, y)) * x\n",
    "        self.y_w = self.y_w + self.lr * (c - self.pred_c(x, y)) * y\n",
    "        self.bias = self.bias + self.lr * (c - self.pred_c(x, y)) * self.bias\n",
    "        return\n",
    "    \n",
    "    def train(self):\n",
    "        n_incorrect = 0;\n",
    "        for i, x in enumerate(self.X):\n",
    "            c_pred = self.pred_c(x, self.Y[i])\n",
    "            if self.C[i] != c_pred:\n",
    "                n_incorrect+=1\n",
    "                #no point updating if correct (c - pred_c == 0)\n",
    "                self.update_weights(x, self.Y[i], self.C[i])\n",
    "        return n_incorrect\n",
    "                \n",
    "    "
   ]
  },
  {
   "cell_type": "code",
   "execution_count": 6,
   "id": "ca008640-4797-4fed-952e-cbf3c3bec5ba",
   "metadata": {},
   "outputs": [
    {
     "data": {
      "image/png": "[encoded data removed]",
      "text/plain": [
       "<Figure size 432x288 with 1 Axes>"
      ]
     },
     "metadata": {
      "needs_background": "light"
     },
     "output_type": "display_data"
    }
   ],
   "source": [
    "#show that looks terrible initially\n",
    "percept = perceptron(df.x, df.y, df.c)\n",
    "\n",
    "#turn into y = mx + b format from intercept + percept.x_w * x + percept.x_y * y\n",
    "m = - percept.x_w / percept.y_w\n",
    "b = - percept.bias / percept.y_w\n",
    "\n",
    "# plot\n",
    "for group in df.c.unique():\n",
    "    plt.plot(df.x[df.c == group], df.y[df.c == group], marker = markers[group], linestyle='', fillstyle='none') \n",
    "plt.plot([min(df.x), max(df.x)], [min(df.x) * m + b, max(df.x) * m + b], color='red')\n",
    "plt.ylim(-6, 6)\n",
    "plt.show()"
   ]
  },
  {
   "cell_type": "code",
   "execution_count": 7,
   "id": "b8a0cb88-aee9-4a0c-80bd-1d649739151c",
   "metadata": {},
   "outputs": [
    {
     "name": "stdout",
     "output_type": "stream",
     "text": [
      "Epoch 1: 22\n",
      "Epoch 2: 9\n",
      "Epoch 3: 4\n",
      "Epoch 4: 2\n",
      "Epoch 5: 1\n",
      "Epoch 6: 1\n",
      "Epoch 7: 1\n",
      "Epoch 8: 1\n",
      "Epoch 9: 1\n",
      "Epoch 10: 1\n",
      "Epoch 11: 1\n",
      "Epoch 12: 1\n",
      "Epoch 13: 1\n",
      "Epoch 14: 1\n",
      "Epoch 15: 0\n"
     ]
    }
   ],
   "source": [
    "#train\n",
    "for i in range(50):\n",
    "    n_incorrect = percept.train()\n",
    "    print('Epoch {epoch}: {n}'.format(epoch = i+1, n = n_incorrect))\n",
    "    \n",
    "    if n_incorrect == 0:\n",
    "        break;"
   ]
  },
  {
   "cell_type": "markdown",
   "id": "c5b445c4-0330-426d-b145-582fd9a40fa8",
   "metadata": {},
   "source": [
    "### Plot the decision boundary for the two Gaussians."
   ]
  },
  {
   "cell_type": "code",
   "execution_count": 8,
   "id": "59d64c5e-3d94-4d5e-b24f-b14ca6f7e515",
   "metadata": {},
   "outputs": [
    {
     "data": {
      "image/png": "[encoded data removed]",
      "text/plain": [
       "<Figure size 432x288 with 1 Axes>"
      ]
     },
     "metadata": {
      "needs_background": "light"
     },
     "output_type": "display_data"
    }
   ],
   "source": [
    "#plot again, should be beautiful!\n",
    "\n",
    "#turn into y = mx + b format from intercept + percept.x_w * x + percept.x_y * y\n",
    "m = - percept.x_w / percept.y_w\n",
    "b = - percept.bias / percept.y_w\n",
    "\n",
    "# plot\n",
    "for group in df.c.unique():\n",
    "    plt.plot(df.x[df.c == group], df.y[df.c == group], marker = markers[group], linestyle='', fillstyle='none') \n",
    "plt.plot([min(df.x), max(df.x)], [min(df.x) * m + b, max(df.x) * m + b], color='red')\n",
    "plt.ylim(-6, 6)\n",
    "plt.show()"
   ]
  },
  {
   "cell_type": "markdown",
   "id": "39669fdf-4c61-4e35-bead-4c280bc29801",
   "metadata": {},
   "source": [
    "# Part 2: MultiClass Logistic regression (30 pts)\n",
    "Generate 50 samples from each of the three bivariate gaussian distributions with unit variance centered\n",
    "at (-2, -2), (1, 3), and (-3, 1) respectively. Implement a multi-class logistic regression with Softmax\n",
    "function and optimize it with gradient descent. Plot the decision boundaries for the three Gaussians.\n",
    "***The code and the outputs for problem 1 and problem 2 should be in a Jupyter Notebook saved as a\n",
    ".html file. You can do this by opening your Jupyter notebook and going to File->Save and Export\n",
    "Notebook As-> HTML"
   ]
  },
  {
   "cell_type": "markdown",
   "id": "0bb11b76-022c-44f4-98dc-2c93020670fe",
   "metadata": {},
   "source": [
    "### Generate 50 samples from each of the three bivariate gaussian distributions with unit variance centered at (-2, -2), (1, 3), and (-3, 1) respectively."
   ]
  },
  {
   "cell_type": "code",
   "execution_count": 44,
   "id": "cea5f9f8-98f6-4ac9-a16a-a5441061adf3",
   "metadata": {},
   "outputs": [
    {
     "name": "stdout",
     "output_type": "stream",
     "text": [
      "(150,)\n",
      "(150,)\n",
      "(150,)\n"
     ]
    },
    {
     "data": {
      "text/plain": [
       "0    50\n",
       "1    50\n",
       "2    50\n",
       "Name: c, dtype: int64"
      ]
     },
     "execution_count": 44,
     "metadata": {},
     "output_type": "execute_result"
    }
   ],
   "source": [
    "n_samples = 50\n",
    "c1_x, c1_y = np.random.multivariate_normal([-2, -2], [[1, 0], [0, 1]], n_samples).T\n",
    "c2_x, c2_y = np.random.multivariate_normal([1, 3], [[1, 0], [0, 1]], n_samples).T\n",
    "c3_x, c3_y = np.random.multivariate_normal([-3, 1], [[1, 0], [0, 1]], n_samples).T\n",
    "\n",
    "X = np.concatenate((c1_x, c2_x, c3_x))\n",
    "Y = np.concatenate((c1_y, c2_y, c3_y))\n",
    "C = np.concatenate(([0] * n_samples, [1] * n_samples, [2] * n_samples))\n",
    "print(X.shape)\n",
    "print(Y.shape)\n",
    "print(C.shape)\n",
    "\n",
    "df = pd.DataFrame(\n",
    "    {'x': X,\n",
    "     'y': Y,\n",
    "     'c': C,\n",
    "    }\n",
    ")\n",
    "df.c.value_counts()"
   ]
  },
  {
   "cell_type": "code",
   "execution_count": 45,
   "id": "70ce849a-a9f8-4353-a4db-3156bfc479af",
   "metadata": {},
   "outputs": [
    {
     "data": {
      "image/png": "[encoded data removed]",
      "text/plain": [
       "<Figure size 432x288 with 1 Axes>"
      ]
     },
     "metadata": {
      "needs_background": "light"
     },
     "output_type": "display_data"
    }
   ],
   "source": [
    "markers = {0: 'x', 1: 'o', 2: 'v'}\n",
    "for group in df.c.unique():\n",
    "    plt.plot(df.x[df.c == group], df.y[df.c == group], marker = markers[group], linestyle='', fillstyle='none')  \n",
    "plt.ylim(-6, 6)\n",
    "plt.show()"
   ]
  },
  {
   "cell_type": "markdown",
   "id": "cd0d6efa-76e4-4c9f-8453-11657d6afd4a",
   "metadata": {},
   "source": [
    "### Implement a multi-class logistic regression with Softmax function and optimize it with gradient descent. "
   ]
  },
  {
   "cell_type": "code",
   "execution_count": 46,
   "id": "ce53e837-0498-45e2-ad19-325e2e7d578d",
   "metadata": {},
   "outputs": [],
   "source": [
    "#first lets get data into a single vector, trying to learn vector/matrix manipuations\n",
    "data = np.column_stack((X, Y))\n",
    "# print(data)\n",
    "\n",
    "#we also need the classes to be one-hot encoded\n",
    "#https://stackoverflow.com/questions/29831489/convert-array-of-indices-to-one-hot-encoded-array-in-numpy\n",
    "labels = np.zeros((C.size, C.max() + 1))\n",
    "labels[np.arange(C.size), C] = 1\n",
    "# print(labels)"
   ]
  },
  {
   "cell_type": "code",
   "execution_count": 47,
   "id": "6c212ada-4265-4a54-80da-87cf31e9fe36",
   "metadata": {},
   "outputs": [],
   "source": [
    "class mc_logistic_regression:\n",
    "    def __init__(self, data, labels):\n",
    "        self.data = data\n",
    "        self.labels = labels\n",
    "        self.n_features = data.shape[1]\n",
    "        self.n_classes = labels.shape[1]\n",
    "        \n",
    "        #for 2 features and 3 classes we need 6 weights (2x3 matrix)\n",
    "        #am using random numbers cause of \n",
    "        #https://medium.com/geekculture/logistic-regression-implementation-from-scratch-in-python-f9d6cd4a0747\n",
    "        #would 0's work?\n",
    "        self.weights = np.random.randn(self.n_features, self.n_classes)\n",
    "        self.intercepts = np.random.randn(1, self.n_classes)\n",
    "        \n",
    "        #for training\n",
    "        self.lr = 0.001\n",
    "        self.iterations = 10000\n",
    "        \n",
    "    def softmax(self, x):\n",
    "        #equation for soft max is exp(x) / sum(exp(x)\n",
    "        #per https://medium.com/geekculture/logistic-regression-implementation-from-scratch-in-python-f9d6cd4a0747\n",
    "        #and https://stackoverflow.com/questions/43290138/softmax-function-of-a-numpy-array-by-row\n",
    "        #should instead us x - max(x) which prevents overflow by making numbers smaller (what if theyre already negative?)\n",
    "        \n",
    "        #x is the vector of log odds (3 since 3 classes)\n",
    "        #print(x)\n",
    "\n",
    "        max_x = np.max(x, axis=-1, keepdims = True)\n",
    "        # print(max_x)\n",
    "\n",
    "        num = np.exp(x - max_x)\n",
    "        # print(num)\n",
    "\n",
    "        denom = np.sum(num, axis=-1, keepdims=True)\n",
    "        # print(denom)\n",
    "\n",
    "        return num/denom\n",
    "        \n",
    "    def get_logits(self, X):\n",
    "        # X is the data (2 x n_samples)\n",
    "        #logit is the log odds, which is X@w + b\n",
    "        #this is the straight lined version from the statsquest video\n",
    "        # print(\"Data\")\n",
    "        # print(X[:10])\n",
    "        # print(\"Weights\")\n",
    "        # print(self.weights[:10])\n",
    "        # print(\"Intercept\")\n",
    "        # print(self.intercepts[:10])\n",
    "        # print(\"Data @ Weights + Intercept\")\n",
    "        # print(X[:10] @ self.weights[:10] + self.intercepts[:10])\n",
    "        return X @ self.weights + self.intercepts\n",
    "    \n",
    "    def predict_probs(self, X):\n",
    "        logits = self.get_logits(X) #returns 3xn_samples of logits\n",
    "\n",
    "        #now use softmax\n",
    "        return self.softmax(logits)\n",
    "    \n",
    "    def predict_classes(self, data):\n",
    "        class_probs = self.predict_probs(data)\n",
    "        class_preds = np.argmax(class_probs, axis=1)\n",
    "        return class_preds\n",
    "        \n",
    "    def update_weights(self, class_probs):\n",
    "        n = self.data.shape[0] #number of samples\n",
    "        \n",
    "        #gradient w.r.t. weights is:\n",
    "        dW = (1 / n) * (X.T @ (class_probs - self.labels))\n",
    "        # print('Gradient w.r.t. weights')\n",
    "        # print(dW)\n",
    "        # print('Gradient * learning rate')\n",
    "        # print(dW * self.lr)\n",
    "        dInt = (1 / n) * np.sum((class_probs - self.labels), axis=0, keepdims=True)\n",
    "        \n",
    "        #given gradients, update weights and intercept\n",
    "        # print(\"Old Weights\")\n",
    "        # print(self.weights)\n",
    "        self.weights = self.weights - self.lr * dW\n",
    "        # print(\"New Weights\")\n",
    "        # print(self.weights)\n",
    "        self.intercepts = self.intercepts - self.lr * dInt\n",
    "        \n",
    "    def pred_accuracy(self):\n",
    "        #get predictions\n",
    "        predictions = self.predict_classes(self.data)\n",
    "        \n",
    "        #convert labels away from one-hot encoding with np.argmax\n",
    "        return sum(predictions == np.argmax(self.labels, axis=1)) / len(self.labels)\n",
    "        \n",
    "    def train(self, verbose = False):\n",
    "        losses = np.zeros(self.iterations)\n",
    "        for i in range(1, self.iterations + 1):\n",
    "            class_probs = self.predict_probs(self.data)\n",
    "            \n",
    "            # for loss, np.log is log probability of each class, \n",
    "            # times one-hot encoded labels gives you just prob of that true class, \n",
    "            # then added together, then - since we're minimizing the negative\n",
    "            # log likelihood\n",
    "            loss = - np.sum(self.labels * np.log(class_probs))\n",
    "            losses[i - 1] = loss;\n",
    "            self.update_weights(class_probs)\n",
    "            if verbose:\n",
    "                if i % 1000 == 1:\n",
    "                    print(\"-\" * 10)\n",
    "                    print(\"Iteration: {}\".format(i))\n",
    "                    print(\"Loss: {}\".format(loss))\n",
    "                    print(\"Accuracy: {}\".format(self.pred_accuracy()))\n",
    "        \n",
    "        return losses\n",
    "        \n",
    "def unison_shuffled_copies(a, b):\n",
    "    assert len(a) == len(b)\n",
    "    p = np.random.permutation(len(a))\n",
    "    return a[p], b[p]"
   ]
  },
  {
   "cell_type": "code",
   "execution_count": 60,
   "id": "341e7122-da6b-41a5-886f-77e2cc1a8273",
   "metadata": {},
   "outputs": [],
   "source": [
    "#initialize logistic regression\n",
    "logreg = mc_logistic_regression(data, labels)"
   ]
  },
  {
   "cell_type": "code",
   "execution_count": 61,
   "id": "7e3dacf4-b270-4b2a-8a06-f2ec7e1ed073",
   "metadata": {},
   "outputs": [
    {
     "data": {
      "image/png": "[encoded data removed]",
      "text/plain": [
       "<Figure size 432x288 with 1 Axes>"
      ]
     },
     "metadata": {
      "needs_background": "light"
     },
     "output_type": "display_data"
    }
   ],
   "source": [
    "#plot, should look terrible to start with\n",
    "\n",
    "#prepare for background (shows decision boundaries)\n",
    "xs = np.linspace(min(df.x), max(df.x), num=100)\n",
    "ys = np.linspace(-6,6, num=100)\n",
    "\n",
    "newX = []\n",
    "for x1 in xs:\n",
    "  for x2 in ys:\n",
    "    newX.append((x1, x2))\n",
    "newX = np.array(newX)\n",
    "\n",
    "finX = np.column_stack((newX, logreg.predict_classes(newX)))\n",
    "\n",
    "#class 0\n",
    "flg = (finX[:, 2] == 0)\n",
    "plt.scatter(finX[flg,0], finX[flg,1], alpha=0.05, c=\"tab:blue\", marker=\"s\", s=20)\n",
    "#class 1\n",
    "flg = (finX[:, 2] == 1)\n",
    "plt.scatter(finX[flg,0], finX[flg,1], alpha=0.05, c=\"tab:orange\", marker=\"s\", s=20)\n",
    "#class 2\n",
    "flg = (finX[:, 2] == 2)\n",
    "plt.scatter(finX[flg,0], finX[flg,1], alpha=0.05, c=\"tab:green\", marker=\"s\", s=20)\n",
    "\n",
    "#now plot data points (from above)\n",
    "for group in df.c.unique():\n",
    "    plt.plot(df.x[df.c == group], df.y[df.c == group], marker = markers[group], linestyle='', fillstyle='none')  \n",
    "plt.ylim(-6, 6)\n",
    "\n",
    "plt.show()"
   ]
  },
  {
   "cell_type": "code",
   "execution_count": 62,
   "id": "93444c99-aca1-46c5-9a82-1af74fecb8cb",
   "metadata": {},
   "outputs": [
    {
     "name": "stdout",
     "output_type": "stream",
     "text": [
      "----------\n",
      "Iteration: 1\n",
      "Loss: 348.7720595205462\n",
      "Accuracy: 0.32666666666666666\n",
      "----------\n",
      "Iteration: 1001\n",
      "Loss: 120.21896346600579\n",
      "Accuracy: 0.64\n",
      "----------\n",
      "Iteration: 2001\n",
      "Loss: 72.50721262945639\n",
      "Accuracy: 0.7866666666666666\n",
      "----------\n",
      "Iteration: 3001\n",
      "Loss: 53.244804912599676\n",
      "Accuracy: 0.8533333333333334\n",
      "----------\n",
      "Iteration: 4001\n",
      "Loss: 42.9316414792519\n",
      "Accuracy: 0.8866666666666667\n",
      "----------\n",
      "Iteration: 5001\n",
      "Loss: 36.57349695460006\n",
      "Accuracy: 0.9\n",
      "----------\n",
      "Iteration: 6001\n",
      "Loss: 32.297230304178605\n",
      "Accuracy: 0.9333333333333333\n",
      "----------\n",
      "Iteration: 7001\n",
      "Loss: 29.243161335090758\n",
      "Accuracy: 0.9333333333333333\n",
      "----------\n",
      "Iteration: 8001\n",
      "Loss: 26.962690536981203\n",
      "Accuracy: 0.94\n",
      "----------\n",
      "Iteration: 9001\n",
      "Loss: 25.199691205902266\n",
      "Accuracy: 0.9466666666666667\n",
      "Final accuracy:\n"
     ]
    },
    {
     "data": {
      "text/plain": [
       "0.9466666666666667"
      ]
     },
     "execution_count": 62,
     "metadata": {},
     "output_type": "execute_result"
    }
   ],
   "source": [
    "#Train logistic regression\n",
    "losses = logreg.train(verbose = True)\n",
    "\n",
    "print(\"Final accuracy:\")\n",
    "logreg.pred_accuracy()"
   ]
  },
  {
   "cell_type": "code",
   "execution_count": 63,
   "id": "6bbf9479-bf35-4bfe-a126-84c11c1f37b9",
   "metadata": {
    "tags": []
   },
   "outputs": [
    {
     "data": {
      "text/plain": [
       "<matplotlib.collections.PathCollection at 0x7fc85b28ec10>"
      ]
     },
     "execution_count": 63,
     "metadata": {},
     "output_type": "execute_result"
    },
    {
     "data": {
      "image/png": "[encoded data removed]",
      "text/plain": [
       "<Figure size 432x288 with 1 Axes>"
      ]
     },
     "metadata": {
      "needs_background": "light"
     },
     "output_type": "display_data"
    }
   ],
   "source": [
    "#plot losses over time\n",
    "plt.scatter(np.arange(len(losses)), losses)"
   ]
  },
  {
   "cell_type": "markdown",
   "id": "39f6f558-e148-4e5d-8ae4-c584c30611b1",
   "metadata": {},
   "source": [
    "### Plot the decision boundaries for the three Gaussians"
   ]
  },
  {
   "cell_type": "code",
   "execution_count": 64,
   "id": "469db79b-6939-40fc-a581-c5875e18280b",
   "metadata": {},
   "outputs": [
    {
     "data": {
      "image/png": "[encoded data removed]",
      "text/plain": [
       "<Figure size 432x288 with 1 Axes>"
      ]
     },
     "metadata": {
      "needs_background": "light"
     },
     "output_type": "display_data"
    }
   ],
   "source": [
    "#plot again, should look terrific this time!\n",
    "\n",
    "#prepare for background (shows decision boundaries)\n",
    "xs = np.linspace(min(df.x), max(df.x), num=100)\n",
    "ys = np.linspace(-6,6, num=100)\n",
    "\n",
    "newX = []\n",
    "for x1 in xs:\n",
    "  for x2 in ys:\n",
    "    newX.append((x1, x2))\n",
    "newX = np.array(newX)\n",
    "\n",
    "finX = np.column_stack((newX, logreg.predict_classes(newX)))\n",
    "\n",
    "#class 0\n",
    "flg = (finX[:, 2] == 0)\n",
    "plt.scatter(finX[flg,0], finX[flg,1], alpha=0.05, c=\"tab:blue\", marker=\"s\", s=20)\n",
    "#class 1\n",
    "flg = (finX[:, 2] == 1)\n",
    "plt.scatter(finX[flg,0], finX[flg,1], alpha=0.05, c=\"tab:orange\", marker=\"s\", s=20)\n",
    "#class 2\n",
    "flg = (finX[:, 2] == 2)\n",
    "plt.scatter(finX[flg,0], finX[flg,1], alpha=0.05, c=\"tab:green\", marker=\"s\", s=20)\n",
    "\n",
    "#now plot data points (from above)\n",
    "for group in df.c.unique():\n",
    "    plt.plot(df.x[df.c == group], df.y[df.c == group], marker = markers[group], linestyle='', fillstyle='none')  \n",
    "plt.ylim(-6, 6)\n",
    "\n",
    "plt.show()"
   ]
  },
  {
   "cell_type": "code",
   "execution_count": 18,
   "id": "cf488b73-e0d3-48b8-bcb3-26692f2c3980",
   "metadata": {},
   "outputs": [
    {
     "data": {
      "image/png": "[encoded data removed]",
      "text/plain": [
       "<Figure size 432x288 with 1 Axes>"
      ]
     },
     "metadata": {
      "needs_background": "light"
     },
     "output_type": "display_data"
    }
   ],
   "source": [
    "# #this was the old method i tried, sort of deriving individual decision boundaries. \n",
    "# # But, this doesn't work because multiclass logistic regression isn't really learning decision boundaries like \n",
    "# # simple logistic regression is\n",
    "\n",
    "# #plot initially, should be terrible\n",
    "# weights = logreg.weights\n",
    "# intercepts = logreg.intercepts\n",
    "\n",
    "# #turn into y = mx + b format from intercept + percept.x_w * x + percept.x_y * y\n",
    "# m0 = - weights.T[0][0] / weights.T[0][1]\n",
    "# b0 = - intercepts[0][0] / weights.T[0][1]\n",
    "\n",
    "# m1 = - weights.T[1][0] / weights.T[1][1]\n",
    "# b1 = - intercepts[0][1] / weights.T[1][1]\n",
    "\n",
    "# m2 = - weights.T[2][0] / weights.T[2][1]\n",
    "# b2 = - intercepts[0][2] / weights.T[2][1]\n",
    "\n",
    "# # plot\n",
    "# markers = {0: 'x', 1: 'o', 2: 'v'}\n",
    "# for group in df.c.unique():\n",
    "#     plt.plot(df.x[df.c == group], df.y[df.c == group], marker = markers[group], linestyle='', fillstyle='none')  \n",
    "# plt.plot([min(df.x), max(df.x)], [min(df.x) * m0 + b0, max(df.x) * m0 + b0], color='red')\n",
    "# plt.plot([min(df.x), max(df.x)], [min(df.x) * m1 + b1, max(df.x) * m1 + b1], color='blue')\n",
    "# plt.plot([min(df.x), max(df.x)], [min(df.x) * m2 + b2, max(df.x) * m2 + b2], color='cyan')\n",
    "# plt.ylim(-6, 6)\n",
    "# plt.show()"
   ]
  }
 ],
 "metadata": {
  "kernelspec": {
   "display_name": "Python 3 (ipykernel)",
   "language": "python",
   "name": "python3"
  },
  "language_info": {
   "codemirror_mode": {
    "name": "ipython",
    "version": 3
   },
   "file_extension": ".py",
   "mimetype": "text/x-python",
   "name": "python",
   "nbconvert_exporter": "python",
   "pygments_lexer": "ipython3",
   "version": "3.9.7"
  }
 },
 "nbformat": 4,
 "nbformat_minor": 5
}
